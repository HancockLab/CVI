{
 "cells": [
  {
   "cell_type": "markdown",
   "metadata": {},
   "source": [
    "# *FLC* expression analysis"
   ]
  },
  {
   "cell_type": "code",
   "execution_count": 2,
   "metadata": {},
   "outputs": [],
   "source": [
    "import pandas as pd\n",
    "import seaborn as sns\n",
    "import matplotlib.pyplot as plt\n",
    "import numpy as np"
   ]
  },
  {
   "cell_type": "markdown",
   "metadata": {},
   "source": [
    "### Import data"
   ]
  },
  {
   "cell_type": "code",
   "execution_count": 3,
   "metadata": {},
   "outputs": [
    {
     "data": {
      "text/html": [
       "<div>\n",
       "<style scoped>\n",
       "    .dataframe tbody tr th:only-of-type {\n",
       "        vertical-align: middle;\n",
       "    }\n",
       "\n",
       "    .dataframe tbody tr th {\n",
       "        vertical-align: top;\n",
       "    }\n",
       "\n",
       "    .dataframe thead th {\n",
       "        text-align: right;\n",
       "    }\n",
       "</style>\n",
       "<table border=\"1\" class=\"dataframe\">\n",
       "  <thead>\n",
       "    <tr style=\"text-align: right;\">\n",
       "      <th></th>\n",
       "      <th>Pos</th>\n",
       "      <th>Name</th>\n",
       "      <th>Rep</th>\n",
       "      <th>Cp</th>\n",
       "    </tr>\n",
       "  </thead>\n",
       "  <tbody>\n",
       "    <tr>\n",
       "      <th>0</th>\n",
       "      <td>A23</td>\n",
       "      <td>Ait-14</td>\n",
       "      <td>#1</td>\n",
       "      <td>27.92</td>\n",
       "    </tr>\n",
       "    <tr>\n",
       "      <th>1</th>\n",
       "      <td>B23</td>\n",
       "      <td>Ait-14</td>\n",
       "      <td>#1</td>\n",
       "      <td>27.86</td>\n",
       "    </tr>\n",
       "    <tr>\n",
       "      <th>2</th>\n",
       "      <td>C23</td>\n",
       "      <td>Ait-14</td>\n",
       "      <td>#1</td>\n",
       "      <td>27.91</td>\n",
       "    </tr>\n",
       "    <tr>\n",
       "      <th>3</th>\n",
       "      <td>J7</td>\n",
       "      <td>Ait-14</td>\n",
       "      <td>#2</td>\n",
       "      <td>28.17</td>\n",
       "    </tr>\n",
       "    <tr>\n",
       "      <th>4</th>\n",
       "      <td>K7</td>\n",
       "      <td>Ait-14</td>\n",
       "      <td>#2</td>\n",
       "      <td>28.96</td>\n",
       "    </tr>\n",
       "  </tbody>\n",
       "</table>\n",
       "</div>"
      ],
      "text/plain": [
       "   Pos    Name Rep     Cp\n",
       "0  A23  Ait-14  #1  27.92\n",
       "1  B23  Ait-14  #1  27.86\n",
       "2  C23  Ait-14  #1  27.91\n",
       "3   J7  Ait-14  #2  28.17\n",
       "4   K7  Ait-14  #2  28.96"
      ]
     },
     "execution_count": 3,
     "metadata": {},
     "output_type": "execute_result"
    }
   ],
   "source": [
    "PP2A = pd.read_table('20190911_PP2A.txt')\n",
    "PP2A.head()"
   ]
  },
  {
   "cell_type": "code",
   "execution_count": 4,
   "metadata": {},
   "outputs": [
    {
     "data": {
      "text/html": [
       "<div>\n",
       "<style scoped>\n",
       "    .dataframe tbody tr th:only-of-type {\n",
       "        vertical-align: middle;\n",
       "    }\n",
       "\n",
       "    .dataframe tbody tr th {\n",
       "        vertical-align: top;\n",
       "    }\n",
       "\n",
       "    .dataframe thead th {\n",
       "        text-align: right;\n",
       "    }\n",
       "</style>\n",
       "<table border=\"1\" class=\"dataframe\">\n",
       "  <thead>\n",
       "    <tr style=\"text-align: right;\">\n",
       "      <th></th>\n",
       "      <th>Pos</th>\n",
       "      <th>Name</th>\n",
       "      <th>Rep</th>\n",
       "      <th>Cp</th>\n",
       "    </tr>\n",
       "  </thead>\n",
       "  <tbody>\n",
       "    <tr>\n",
       "      <th>0</th>\n",
       "      <td>A24</td>\n",
       "      <td>Ait-14</td>\n",
       "      <td>#1</td>\n",
       "      <td>24.08</td>\n",
       "    </tr>\n",
       "    <tr>\n",
       "      <th>1</th>\n",
       "      <td>B24</td>\n",
       "      <td>Ait-14</td>\n",
       "      <td>#1</td>\n",
       "      <td>24.16</td>\n",
       "    </tr>\n",
       "    <tr>\n",
       "      <th>2</th>\n",
       "      <td>C24</td>\n",
       "      <td>Ait-14</td>\n",
       "      <td>#1</td>\n",
       "      <td>24.01</td>\n",
       "    </tr>\n",
       "    <tr>\n",
       "      <th>3</th>\n",
       "      <td>J8</td>\n",
       "      <td>Ait-14</td>\n",
       "      <td>#2</td>\n",
       "      <td>24.14</td>\n",
       "    </tr>\n",
       "    <tr>\n",
       "      <th>4</th>\n",
       "      <td>K8</td>\n",
       "      <td>Ait-14</td>\n",
       "      <td>#2</td>\n",
       "      <td>24.23</td>\n",
       "    </tr>\n",
       "  </tbody>\n",
       "</table>\n",
       "</div>"
      ],
      "text/plain": [
       "   Pos    Name Rep     Cp\n",
       "0  A24  Ait-14  #1  24.08\n",
       "1  B24  Ait-14  #1  24.16\n",
       "2  C24  Ait-14  #1  24.01\n",
       "3   J8  Ait-14  #2  24.14\n",
       "4   K8  Ait-14  #2  24.23"
      ]
     },
     "execution_count": 4,
     "metadata": {},
     "output_type": "execute_result"
    }
   ],
   "source": [
    "FLC = pd.read_table('20190911_FLC.txt')\n",
    "FLC.head()"
   ]
  },
  {
   "cell_type": "markdown",
   "metadata": {},
   "source": [
    "### Get the median for each technical replicate"
   ]
  },
  {
   "cell_type": "code",
   "execution_count": 5,
   "metadata": {},
   "outputs": [
    {
     "data": {
      "text/html": [
       "<div>\n",
       "<style scoped>\n",
       "    .dataframe tbody tr th:only-of-type {\n",
       "        vertical-align: middle;\n",
       "    }\n",
       "\n",
       "    .dataframe tbody tr th {\n",
       "        vertical-align: top;\n",
       "    }\n",
       "\n",
       "    .dataframe thead th {\n",
       "        text-align: right;\n",
       "    }\n",
       "</style>\n",
       "<table border=\"1\" class=\"dataframe\">\n",
       "  <thead>\n",
       "    <tr style=\"text-align: right;\">\n",
       "      <th></th>\n",
       "      <th>Name</th>\n",
       "      <th>Rep</th>\n",
       "      <th>Cp</th>\n",
       "    </tr>\n",
       "  </thead>\n",
       "  <tbody>\n",
       "    <tr>\n",
       "      <th>0</th>\n",
       "      <td>Ait-14</td>\n",
       "      <td>#1</td>\n",
       "      <td>27.91</td>\n",
       "    </tr>\n",
       "    <tr>\n",
       "      <th>1</th>\n",
       "      <td>Ait-14</td>\n",
       "      <td>#2</td>\n",
       "      <td>28.47</td>\n",
       "    </tr>\n",
       "    <tr>\n",
       "      <th>2</th>\n",
       "      <td>Ait-14</td>\n",
       "      <td>#3</td>\n",
       "      <td>26.23</td>\n",
       "    </tr>\n",
       "    <tr>\n",
       "      <th>3</th>\n",
       "      <td>Ait-9</td>\n",
       "      <td>#1</td>\n",
       "      <td>27.38</td>\n",
       "    </tr>\n",
       "    <tr>\n",
       "      <th>4</th>\n",
       "      <td>Ait-9</td>\n",
       "      <td>#2</td>\n",
       "      <td>29.14</td>\n",
       "    </tr>\n",
       "  </tbody>\n",
       "</table>\n",
       "</div>"
      ],
      "text/plain": [
       "     Name Rep     Cp\n",
       "0  Ait-14  #1  27.91\n",
       "1  Ait-14  #2  28.47\n",
       "2  Ait-14  #3  26.23\n",
       "3   Ait-9  #1  27.38\n",
       "4   Ait-9  #2  29.14"
      ]
     },
     "execution_count": 5,
     "metadata": {},
     "output_type": "execute_result"
    }
   ],
   "source": [
    "PP2A_median = PP2A.groupby(['Name','Rep']).agg({'Cp':'median'}).reset_index()\n",
    "PP2A_median.head()"
   ]
  },
  {
   "cell_type": "code",
   "execution_count": 6,
   "metadata": {},
   "outputs": [
    {
     "data": {
      "text/html": [
       "<div>\n",
       "<style scoped>\n",
       "    .dataframe tbody tr th:only-of-type {\n",
       "        vertical-align: middle;\n",
       "    }\n",
       "\n",
       "    .dataframe tbody tr th {\n",
       "        vertical-align: top;\n",
       "    }\n",
       "\n",
       "    .dataframe thead th {\n",
       "        text-align: right;\n",
       "    }\n",
       "</style>\n",
       "<table border=\"1\" class=\"dataframe\">\n",
       "  <thead>\n",
       "    <tr style=\"text-align: right;\">\n",
       "      <th></th>\n",
       "      <th>Name</th>\n",
       "      <th>Rep</th>\n",
       "      <th>Cp</th>\n",
       "    </tr>\n",
       "  </thead>\n",
       "  <tbody>\n",
       "    <tr>\n",
       "      <th>0</th>\n",
       "      <td>Ait-14</td>\n",
       "      <td>#1</td>\n",
       "      <td>24.08</td>\n",
       "    </tr>\n",
       "    <tr>\n",
       "      <th>1</th>\n",
       "      <td>Ait-14</td>\n",
       "      <td>#2</td>\n",
       "      <td>24.14</td>\n",
       "    </tr>\n",
       "    <tr>\n",
       "      <th>2</th>\n",
       "      <td>Ait-14</td>\n",
       "      <td>#3</td>\n",
       "      <td>22.06</td>\n",
       "    </tr>\n",
       "    <tr>\n",
       "      <th>3</th>\n",
       "      <td>Ait-9</td>\n",
       "      <td>#1</td>\n",
       "      <td>24.34</td>\n",
       "    </tr>\n",
       "    <tr>\n",
       "      <th>4</th>\n",
       "      <td>Ait-9</td>\n",
       "      <td>#2</td>\n",
       "      <td>25.88</td>\n",
       "    </tr>\n",
       "  </tbody>\n",
       "</table>\n",
       "</div>"
      ],
      "text/plain": [
       "     Name Rep     Cp\n",
       "0  Ait-14  #1  24.08\n",
       "1  Ait-14  #2  24.14\n",
       "2  Ait-14  #3  22.06\n",
       "3   Ait-9  #1  24.34\n",
       "4   Ait-9  #2  25.88"
      ]
     },
     "execution_count": 6,
     "metadata": {},
     "output_type": "execute_result"
    }
   ],
   "source": [
    "FLC_median = FLC.groupby(['Name','Rep']).agg({'Cp':'median'}).reset_index()\n",
    "FLC_median.head()"
   ]
  },
  {
   "cell_type": "markdown",
   "metadata": {},
   "source": [
    "### Merge the data"
   ]
  },
  {
   "cell_type": "code",
   "execution_count": 7,
   "metadata": {},
   "outputs": [
    {
     "data": {
      "text/html": [
       "<div>\n",
       "<style scoped>\n",
       "    .dataframe tbody tr th:only-of-type {\n",
       "        vertical-align: middle;\n",
       "    }\n",
       "\n",
       "    .dataframe tbody tr th {\n",
       "        vertical-align: top;\n",
       "    }\n",
       "\n",
       "    .dataframe thead th {\n",
       "        text-align: right;\n",
       "    }\n",
       "</style>\n",
       "<table border=\"1\" class=\"dataframe\">\n",
       "  <thead>\n",
       "    <tr style=\"text-align: right;\">\n",
       "      <th></th>\n",
       "      <th>Name</th>\n",
       "      <th>Rep</th>\n",
       "      <th>Cp_x</th>\n",
       "      <th>Cp_y</th>\n",
       "    </tr>\n",
       "  </thead>\n",
       "  <tbody>\n",
       "    <tr>\n",
       "      <th>0</th>\n",
       "      <td>Ait-14</td>\n",
       "      <td>#1</td>\n",
       "      <td>24.08</td>\n",
       "      <td>27.91</td>\n",
       "    </tr>\n",
       "    <tr>\n",
       "      <th>1</th>\n",
       "      <td>Ait-14</td>\n",
       "      <td>#2</td>\n",
       "      <td>24.14</td>\n",
       "      <td>28.47</td>\n",
       "    </tr>\n",
       "    <tr>\n",
       "      <th>2</th>\n",
       "      <td>Ait-14</td>\n",
       "      <td>#3</td>\n",
       "      <td>22.06</td>\n",
       "      <td>26.23</td>\n",
       "    </tr>\n",
       "    <tr>\n",
       "      <th>3</th>\n",
       "      <td>Ait-9</td>\n",
       "      <td>#1</td>\n",
       "      <td>24.34</td>\n",
       "      <td>27.38</td>\n",
       "    </tr>\n",
       "    <tr>\n",
       "      <th>4</th>\n",
       "      <td>Ait-9</td>\n",
       "      <td>#2</td>\n",
       "      <td>25.88</td>\n",
       "      <td>29.14</td>\n",
       "    </tr>\n",
       "  </tbody>\n",
       "</table>\n",
       "</div>"
      ],
      "text/plain": [
       "     Name Rep   Cp_x   Cp_y\n",
       "0  Ait-14  #1  24.08  27.91\n",
       "1  Ait-14  #2  24.14  28.47\n",
       "2  Ait-14  #3  22.06  26.23\n",
       "3   Ait-9  #1  24.34  27.38\n",
       "4   Ait-9  #2  25.88  29.14"
      ]
     },
     "execution_count": 7,
     "metadata": {},
     "output_type": "execute_result"
    }
   ],
   "source": [
    "merged = pd.merge(FLC_median, PP2A_median,on=['Name','Rep'])\n",
    "merged.head()"
   ]
  },
  {
   "cell_type": "code",
   "execution_count": 8,
   "metadata": {},
   "outputs": [
    {
     "data": {
      "text/html": [
       "<div>\n",
       "<style scoped>\n",
       "    .dataframe tbody tr th:only-of-type {\n",
       "        vertical-align: middle;\n",
       "    }\n",
       "\n",
       "    .dataframe tbody tr th {\n",
       "        vertical-align: top;\n",
       "    }\n",
       "\n",
       "    .dataframe thead th {\n",
       "        text-align: right;\n",
       "    }\n",
       "</style>\n",
       "<table border=\"1\" class=\"dataframe\">\n",
       "  <thead>\n",
       "    <tr style=\"text-align: right;\">\n",
       "      <th></th>\n",
       "      <th>Accession</th>\n",
       "      <th>Replicate</th>\n",
       "      <th>Cp_FLC</th>\n",
       "      <th>Cp_PP2A</th>\n",
       "    </tr>\n",
       "  </thead>\n",
       "  <tbody>\n",
       "    <tr>\n",
       "      <th>0</th>\n",
       "      <td>Ait-14</td>\n",
       "      <td>#1</td>\n",
       "      <td>24.08</td>\n",
       "      <td>27.91</td>\n",
       "    </tr>\n",
       "    <tr>\n",
       "      <th>1</th>\n",
       "      <td>Ait-14</td>\n",
       "      <td>#2</td>\n",
       "      <td>24.14</td>\n",
       "      <td>28.47</td>\n",
       "    </tr>\n",
       "    <tr>\n",
       "      <th>2</th>\n",
       "      <td>Ait-14</td>\n",
       "      <td>#3</td>\n",
       "      <td>22.06</td>\n",
       "      <td>26.23</td>\n",
       "    </tr>\n",
       "    <tr>\n",
       "      <th>3</th>\n",
       "      <td>Ait-9</td>\n",
       "      <td>#1</td>\n",
       "      <td>24.34</td>\n",
       "      <td>27.38</td>\n",
       "    </tr>\n",
       "    <tr>\n",
       "      <th>4</th>\n",
       "      <td>Ait-9</td>\n",
       "      <td>#2</td>\n",
       "      <td>25.88</td>\n",
       "      <td>29.14</td>\n",
       "    </tr>\n",
       "  </tbody>\n",
       "</table>\n",
       "</div>"
      ],
      "text/plain": [
       "  Accession Replicate  Cp_FLC  Cp_PP2A\n",
       "0    Ait-14        #1   24.08    27.91\n",
       "1    Ait-14        #2   24.14    28.47\n",
       "2    Ait-14        #3   22.06    26.23\n",
       "3     Ait-9        #1   24.34    27.38\n",
       "4     Ait-9        #2   25.88    29.14"
      ]
     },
     "execution_count": 8,
     "metadata": {},
     "output_type": "execute_result"
    }
   ],
   "source": [
    "merged.columns=['Accession','Replicate','Cp_FLC','Cp_PP2A']\n",
    "merged.head()"
   ]
  },
  {
   "cell_type": "markdown",
   "metadata": {},
   "source": [
    "### Set FRI+FLC+ as control for *FLC* and *PP2A* expression"
   ]
  },
  {
   "cell_type": "code",
   "execution_count": 9,
   "metadata": {},
   "outputs": [
    {
     "data": {
      "text/plain": [
       "25.07"
      ]
     },
     "execution_count": 9,
     "metadata": {},
     "output_type": "execute_result"
    }
   ],
   "source": [
    "FLC_control = merged.groupby('Accession').get_group('FRI+FLC+').Cp_FLC.median()\n",
    "FLC_control"
   ]
  },
  {
   "cell_type": "code",
   "execution_count": 10,
   "metadata": {
    "scrolled": true
   },
   "outputs": [
    {
     "data": {
      "text/plain": [
       "27.09"
      ]
     },
     "execution_count": 10,
     "metadata": {},
     "output_type": "execute_result"
    }
   ],
   "source": [
    "PP2A_control = merged.groupby('Accession').get_group('FRI+FLC+').Cp_PP2A.median()\n",
    "PP2A_control"
   ]
  },
  {
   "cell_type": "markdown",
   "metadata": {},
   "source": [
    "### Add difference between the control and the accession"
   ]
  },
  {
   "cell_type": "code",
   "execution_count": 11,
   "metadata": {},
   "outputs": [
    {
     "data": {
      "text/html": [
       "<div>\n",
       "<style scoped>\n",
       "    .dataframe tbody tr th:only-of-type {\n",
       "        vertical-align: middle;\n",
       "    }\n",
       "\n",
       "    .dataframe tbody tr th {\n",
       "        vertical-align: top;\n",
       "    }\n",
       "\n",
       "    .dataframe thead th {\n",
       "        text-align: right;\n",
       "    }\n",
       "</style>\n",
       "<table border=\"1\" class=\"dataframe\">\n",
       "  <thead>\n",
       "    <tr style=\"text-align: right;\">\n",
       "      <th></th>\n",
       "      <th>Accession</th>\n",
       "      <th>Replicate</th>\n",
       "      <th>Cp_FLC</th>\n",
       "      <th>Cp_PP2A</th>\n",
       "      <th>∆_FLC</th>\n",
       "      <th>∆_PP2A</th>\n",
       "    </tr>\n",
       "  </thead>\n",
       "  <tbody>\n",
       "    <tr>\n",
       "      <th>0</th>\n",
       "      <td>Ait-14</td>\n",
       "      <td>#1</td>\n",
       "      <td>24.08</td>\n",
       "      <td>27.91</td>\n",
       "      <td>0.99</td>\n",
       "      <td>-0.82</td>\n",
       "    </tr>\n",
       "    <tr>\n",
       "      <th>1</th>\n",
       "      <td>Ait-14</td>\n",
       "      <td>#2</td>\n",
       "      <td>24.14</td>\n",
       "      <td>28.47</td>\n",
       "      <td>0.93</td>\n",
       "      <td>-1.38</td>\n",
       "    </tr>\n",
       "    <tr>\n",
       "      <th>2</th>\n",
       "      <td>Ait-14</td>\n",
       "      <td>#3</td>\n",
       "      <td>22.06</td>\n",
       "      <td>26.23</td>\n",
       "      <td>3.01</td>\n",
       "      <td>0.86</td>\n",
       "    </tr>\n",
       "    <tr>\n",
       "      <th>3</th>\n",
       "      <td>Ait-9</td>\n",
       "      <td>#1</td>\n",
       "      <td>24.34</td>\n",
       "      <td>27.38</td>\n",
       "      <td>0.73</td>\n",
       "      <td>-0.29</td>\n",
       "    </tr>\n",
       "    <tr>\n",
       "      <th>4</th>\n",
       "      <td>Ait-9</td>\n",
       "      <td>#2</td>\n",
       "      <td>25.88</td>\n",
       "      <td>29.14</td>\n",
       "      <td>-0.81</td>\n",
       "      <td>-2.05</td>\n",
       "    </tr>\n",
       "  </tbody>\n",
       "</table>\n",
       "</div>"
      ],
      "text/plain": [
       "  Accession Replicate  Cp_FLC  Cp_PP2A  ∆_FLC  ∆_PP2A\n",
       "0    Ait-14        #1   24.08    27.91   0.99   -0.82\n",
       "1    Ait-14        #2   24.14    28.47   0.93   -1.38\n",
       "2    Ait-14        #3   22.06    26.23   3.01    0.86\n",
       "3     Ait-9        #1   24.34    27.38   0.73   -0.29\n",
       "4     Ait-9        #2   25.88    29.14  -0.81   -2.05"
      ]
     },
     "execution_count": 11,
     "metadata": {},
     "output_type": "execute_result"
    }
   ],
   "source": [
    "merged['∆_FLC']=FLC_control - merged['Cp_FLC']\n",
    "merged['∆_PP2A']=PP2A_control - merged['Cp_PP2A']\n",
    "merged.head()"
   ]
  },
  {
   "cell_type": "markdown",
   "metadata": {},
   "source": [
    "### Calculate ratio between FLC and PP2A per sample (with Pfaffl correction)\n",
    "Primer efficiency after standard curve:\n",
    "* **FLC**: 1.93\n",
    "* **PP2A**: 1.889"
   ]
  },
  {
   "cell_type": "code",
   "execution_count": 12,
   "metadata": {},
   "outputs": [
    {
     "data": {
      "text/html": [
       "<div>\n",
       "<style scoped>\n",
       "    .dataframe tbody tr th:only-of-type {\n",
       "        vertical-align: middle;\n",
       "    }\n",
       "\n",
       "    .dataframe tbody tr th {\n",
       "        vertical-align: top;\n",
       "    }\n",
       "\n",
       "    .dataframe thead th {\n",
       "        text-align: right;\n",
       "    }\n",
       "</style>\n",
       "<table border=\"1\" class=\"dataframe\">\n",
       "  <thead>\n",
       "    <tr style=\"text-align: right;\">\n",
       "      <th></th>\n",
       "      <th>Accession</th>\n",
       "      <th>Replicate</th>\n",
       "      <th>Cp_FLC</th>\n",
       "      <th>Cp_PP2A</th>\n",
       "      <th>∆_FLC</th>\n",
       "      <th>∆_PP2A</th>\n",
       "      <th>Ratio</th>\n",
       "    </tr>\n",
       "  </thead>\n",
       "  <tbody>\n",
       "    <tr>\n",
       "      <th>0</th>\n",
       "      <td>Ait-14</td>\n",
       "      <td>#1</td>\n",
       "      <td>24.08</td>\n",
       "      <td>27.91</td>\n",
       "      <td>0.99</td>\n",
       "      <td>-0.82</td>\n",
       "      <td>3.230070</td>\n",
       "    </tr>\n",
       "    <tr>\n",
       "      <th>1</th>\n",
       "      <td>Ait-14</td>\n",
       "      <td>#2</td>\n",
       "      <td>24.14</td>\n",
       "      <td>28.47</td>\n",
       "      <td>0.93</td>\n",
       "      <td>-1.38</td>\n",
       "      <td>4.433721</td>\n",
       "    </tr>\n",
       "    <tr>\n",
       "      <th>2</th>\n",
       "      <td>Ait-14</td>\n",
       "      <td>#3</td>\n",
       "      <td>22.06</td>\n",
       "      <td>26.23</td>\n",
       "      <td>3.01</td>\n",
       "      <td>0.86</td>\n",
       "      <td>4.187627</td>\n",
       "    </tr>\n",
       "    <tr>\n",
       "      <th>3</th>\n",
       "      <td>Ait-9</td>\n",
       "      <td>#1</td>\n",
       "      <td>24.34</td>\n",
       "      <td>27.38</td>\n",
       "      <td>0.73</td>\n",
       "      <td>-0.29</td>\n",
       "      <td>1.943409</td>\n",
       "    </tr>\n",
       "    <tr>\n",
       "      <th>4</th>\n",
       "      <td>Ait-9</td>\n",
       "      <td>#2</td>\n",
       "      <td>25.88</td>\n",
       "      <td>29.14</td>\n",
       "      <td>-0.81</td>\n",
       "      <td>-2.05</td>\n",
       "      <td>2.162590</td>\n",
       "    </tr>\n",
       "  </tbody>\n",
       "</table>\n",
       "</div>"
      ],
      "text/plain": [
       "  Accession Replicate  Cp_FLC  Cp_PP2A  ∆_FLC  ∆_PP2A     Ratio\n",
       "0    Ait-14        #1   24.08    27.91   0.99   -0.82  3.230070\n",
       "1    Ait-14        #2   24.14    28.47   0.93   -1.38  4.433721\n",
       "2    Ait-14        #3   22.06    26.23   3.01    0.86  4.187627\n",
       "3     Ait-9        #1   24.34    27.38   0.73   -0.29  1.943409\n",
       "4     Ait-9        #2   25.88    29.14  -0.81   -2.05  2.162590"
      ]
     },
     "execution_count": 12,
     "metadata": {},
     "output_type": "execute_result"
    }
   ],
   "source": [
    "merged['Ratio']=1.93**merged['∆_FLC']/1.889**merged['∆_PP2A']\n",
    "merged.head()"
   ]
  },
  {
   "cell_type": "markdown",
   "metadata": {},
   "source": [
    "### Plot"
   ]
  },
  {
   "cell_type": "code",
   "execution_count": 13,
   "metadata": {},
   "outputs": [],
   "source": [
    "colorMap = ['gray','gray','gray',\n",
    "            '#0075DC','#0075DC','#0075DC','#0075DC',\n",
    "            '#FFA405','#FFA405','#FFA405','#FFA405',\n",
    "            '#2BCE48','#2BCE48','#2BCE48','#2BCE48','#2BCE48','#2BCE48']"
   ]
  },
  {
   "cell_type": "code",
   "execution_count": 14,
   "metadata": {},
   "outputs": [],
   "source": [
    "sns.reset_defaults()\n",
    "sns.set(rc={'figure.figsize':(15,10),\"axes.labelsize\":30, 'font.size':30, 'xtick.labelsize': 15.0, 'ytick.labelsize': 20.0,})\n",
    "sns.set_style('whitegrid')\n",
    "fig, ax = plt.subplots()\n",
    "boxprops = {'edgecolor': 'k', 'linewidth': 2,}\n",
    "lineprops = {'color': 'k', 'linewidth': 2}\n",
    "boxplot_kwargs = dict({'boxprops': boxprops, 'medianprops': lineprops,\n",
    "                       'whiskerprops': lineprops, 'capprops': lineprops,\n",
    "                       'width': 0.75,'palette': colorMap})\n",
    "swarmplot_kwargs = dict({'linewidth': 0.6, 'size': 9},\n",
    "                        )\n",
    "sns.boxplot(x=merged[\"Accession\"], \n",
    "            y=\"Ratio\", \n",
    "            data=merged, \n",
    "            order=[\"FRI+FLC+\", \"FRI+FLC-\", \"Col-0\", \"Cvi-0\", \"S1-1\", \"S15-3\", \"S5-10\", \"F10-1-3\", \"F13-8\", \"F3-2\", \"F9-2\", \"Ait-14\", \"Ait-9\", \"Arb-0\", \"Elh-46\", \"Set-0\", \"Set-6\"],\n",
    "            linewidth=1.5,\n",
    "            fliersize=0,\n",
    "            ax=ax,\n",
    "            **boxplot_kwargs)\n",
    "for patch in ax.artists:\n",
    "    r, g, b, a = patch.get_facecolor()\n",
    "    patch.set_facecolor((r, g, b, .4))\n",
    "sns.swarmplot(x=merged[\"Accession\"], \n",
    "            y=\"Ratio\", \n",
    "            data=merged, \n",
    "            order=[\"FRI+FLC+\", \"FRI+FLC-\", \"Col-0\", \"Cvi-0\", \"S1-1\", \"S15-3\", \"S5-10\", \"F10-1-3\", \"F13-8\", \"F3-2\", \"F9-2\", \"Ait-14\", \"Ait-9\", \"Arb-0\", \"Elh-46\", \"Set-0\", \"Set-6\"],\n",
    "            palette=colorMap,\n",
    "            **swarmplot_kwargs)\n",
    "ax.tick_params(labelrotation=90)\n",
    "plt.xlabel('')\n",
    "plt.ylabel('$\\itFLC$ expression relative to FRI+FLC+',fontsize=20)\n",
    "plt.savefig(\"FLCexpressionFigure.pdf\", format=\"pdf\",bbox_inches=\"tight\")\n",
    "# plt.show()"
   ]
  },
  {
   "cell_type": "markdown",
   "metadata": {},
   "source": [
    "### Export data for statistical analysis"
   ]
  },
  {
   "cell_type": "code",
   "execution_count": 15,
   "metadata": {},
   "outputs": [],
   "source": [
    "merged.to_csv('FLCexpression4stats.txt', columns = ['Accession','Ratio'],sep = '\\t',index=False)"
   ]
  },
  {
   "cell_type": "code",
   "execution_count": 16,
   "metadata": {},
   "outputs": [],
   "source": [
    "merged.to_csv('FLCexpression4paper.txt',sep = '\\t',index=False)"
   ]
  },
  {
   "cell_type": "code",
   "execution_count": null,
   "metadata": {},
   "outputs": [],
   "source": []
  }
 ],
 "metadata": {
  "kernelspec": {
   "display_name": "Python 3",
   "language": "python",
   "name": "python3"
  },
  "language_info": {
   "codemirror_mode": {
    "name": "ipython",
    "version": 3
   },
   "file_extension": ".py",
   "mimetype": "text/x-python",
   "name": "python",
   "nbconvert_exporter": "python",
   "pygments_lexer": "ipython3",
   "version": "3.6.8"
  }
 },
 "nbformat": 4,
 "nbformat_minor": 2
}
